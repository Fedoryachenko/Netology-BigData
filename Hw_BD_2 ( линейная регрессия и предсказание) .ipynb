{
 "cells": [
  {
   "cell_type": "code",
   "execution_count": 55,
   "id": "32b47989",
   "metadata": {},
   "outputs": [],
   "source": [
    "import pandas as pd \n",
    "from sklearn.model_selection import train_test_split\n",
    "from sklearn.metrics import accuracy_score\n",
    "import matplotlib.pyplot as plt\n",
    "from sklearn.linear_model import LinearRegression\n",
    "from sklearn.metrics import mean_squared_error"
   ]
  },
  {
   "cell_type": "code",
   "execution_count": 2,
   "id": "c66a1878",
   "metadata": {},
   "outputs": [
    {
     "data": {
      "text/html": [
       "<div>\n",
       "<style scoped>\n",
       "    .dataframe tbody tr th:only-of-type {\n",
       "        vertical-align: middle;\n",
       "    }\n",
       "\n",
       "    .dataframe tbody tr th {\n",
       "        vertical-align: top;\n",
       "    }\n",
       "\n",
       "    .dataframe thead th {\n",
       "        text-align: right;\n",
       "    }\n",
       "</style>\n",
       "<table border=\"1\" class=\"dataframe\">\n",
       "  <thead>\n",
       "    <tr style=\"text-align: right;\">\n",
       "      <th></th>\n",
       "      <th>ID</th>\n",
       "      <th>crim</th>\n",
       "      <th>zn</th>\n",
       "      <th>indus</th>\n",
       "      <th>chas</th>\n",
       "      <th>nox</th>\n",
       "      <th>rm</th>\n",
       "      <th>age</th>\n",
       "      <th>dis</th>\n",
       "      <th>rad</th>\n",
       "      <th>tax</th>\n",
       "      <th>ptratio</th>\n",
       "      <th>black</th>\n",
       "      <th>lstat</th>\n",
       "      <th>medv</th>\n",
       "    </tr>\n",
       "  </thead>\n",
       "  <tbody>\n",
       "    <tr>\n",
       "      <th>0</th>\n",
       "      <td>1</td>\n",
       "      <td>0.00632</td>\n",
       "      <td>18.0</td>\n",
       "      <td>2.31</td>\n",
       "      <td>0</td>\n",
       "      <td>0.538</td>\n",
       "      <td>6.575</td>\n",
       "      <td>65.2</td>\n",
       "      <td>4.0900</td>\n",
       "      <td>1</td>\n",
       "      <td>296</td>\n",
       "      <td>15.3</td>\n",
       "      <td>396.90</td>\n",
       "      <td>4.98</td>\n",
       "      <td>24.0</td>\n",
       "    </tr>\n",
       "    <tr>\n",
       "      <th>1</th>\n",
       "      <td>2</td>\n",
       "      <td>0.02731</td>\n",
       "      <td>0.0</td>\n",
       "      <td>7.07</td>\n",
       "      <td>0</td>\n",
       "      <td>0.469</td>\n",
       "      <td>6.421</td>\n",
       "      <td>78.9</td>\n",
       "      <td>4.9671</td>\n",
       "      <td>2</td>\n",
       "      <td>242</td>\n",
       "      <td>17.8</td>\n",
       "      <td>396.90</td>\n",
       "      <td>9.14</td>\n",
       "      <td>21.6</td>\n",
       "    </tr>\n",
       "    <tr>\n",
       "      <th>2</th>\n",
       "      <td>4</td>\n",
       "      <td>0.03237</td>\n",
       "      <td>0.0</td>\n",
       "      <td>2.18</td>\n",
       "      <td>0</td>\n",
       "      <td>0.458</td>\n",
       "      <td>6.998</td>\n",
       "      <td>45.8</td>\n",
       "      <td>6.0622</td>\n",
       "      <td>3</td>\n",
       "      <td>222</td>\n",
       "      <td>18.7</td>\n",
       "      <td>394.63</td>\n",
       "      <td>2.94</td>\n",
       "      <td>33.4</td>\n",
       "    </tr>\n",
       "    <tr>\n",
       "      <th>3</th>\n",
       "      <td>5</td>\n",
       "      <td>0.06905</td>\n",
       "      <td>0.0</td>\n",
       "      <td>2.18</td>\n",
       "      <td>0</td>\n",
       "      <td>0.458</td>\n",
       "      <td>7.147</td>\n",
       "      <td>54.2</td>\n",
       "      <td>6.0622</td>\n",
       "      <td>3</td>\n",
       "      <td>222</td>\n",
       "      <td>18.7</td>\n",
       "      <td>396.90</td>\n",
       "      <td>5.33</td>\n",
       "      <td>36.2</td>\n",
       "    </tr>\n",
       "    <tr>\n",
       "      <th>4</th>\n",
       "      <td>7</td>\n",
       "      <td>0.08829</td>\n",
       "      <td>12.5</td>\n",
       "      <td>7.87</td>\n",
       "      <td>0</td>\n",
       "      <td>0.524</td>\n",
       "      <td>6.012</td>\n",
       "      <td>66.6</td>\n",
       "      <td>5.5605</td>\n",
       "      <td>5</td>\n",
       "      <td>311</td>\n",
       "      <td>15.2</td>\n",
       "      <td>395.60</td>\n",
       "      <td>12.43</td>\n",
       "      <td>22.9</td>\n",
       "    </tr>\n",
       "  </tbody>\n",
       "</table>\n",
       "</div>"
      ],
      "text/plain": [
       "   ID     crim    zn  indus  chas    nox     rm   age     dis  rad  tax  \\\n",
       "0   1  0.00632  18.0   2.31     0  0.538  6.575  65.2  4.0900    1  296   \n",
       "1   2  0.02731   0.0   7.07     0  0.469  6.421  78.9  4.9671    2  242   \n",
       "2   4  0.03237   0.0   2.18     0  0.458  6.998  45.8  6.0622    3  222   \n",
       "3   5  0.06905   0.0   2.18     0  0.458  7.147  54.2  6.0622    3  222   \n",
       "4   7  0.08829  12.5   7.87     0  0.524  6.012  66.6  5.5605    5  311   \n",
       "\n",
       "   ptratio   black  lstat  medv  \n",
       "0     15.3  396.90   4.98  24.0  \n",
       "1     17.8  396.90   9.14  21.6  \n",
       "2     18.7  394.63   2.94  33.4  \n",
       "3     18.7  396.90   5.33  36.2  \n",
       "4     15.2  395.60  12.43  22.9  "
      ]
     },
     "execution_count": 2,
     "metadata": {},
     "output_type": "execute_result"
    }
   ],
   "source": [
    "df = pd.read_csv('/Users/anastasiafedoracenko/Desktop/Netology/Big Data/Материалы_к_лекции_2/homework.csv')\n",
    "df.head()"
   ]
  },
  {
   "cell_type": "code",
   "execution_count": 4,
   "id": "13ae54cb",
   "metadata": {},
   "outputs": [
    {
     "data": {
      "text/html": [
       "<div>\n",
       "<style scoped>\n",
       "    .dataframe tbody tr th:only-of-type {\n",
       "        vertical-align: middle;\n",
       "    }\n",
       "\n",
       "    .dataframe tbody tr th {\n",
       "        vertical-align: top;\n",
       "    }\n",
       "\n",
       "    .dataframe thead th {\n",
       "        text-align: right;\n",
       "    }\n",
       "</style>\n",
       "<table border=\"1\" class=\"dataframe\">\n",
       "  <thead>\n",
       "    <tr style=\"text-align: right;\">\n",
       "      <th></th>\n",
       "      <th>medv</th>\n",
       "    </tr>\n",
       "    <tr>\n",
       "      <th>chas</th>\n",
       "      <th></th>\n",
       "    </tr>\n",
       "  </thead>\n",
       "  <tbody>\n",
       "    <tr>\n",
       "      <th>0</th>\n",
       "      <td>313</td>\n",
       "    </tr>\n",
       "    <tr>\n",
       "      <th>1</th>\n",
       "      <td>20</td>\n",
       "    </tr>\n",
       "  </tbody>\n",
       "</table>\n",
       "</div>"
      ],
      "text/plain": [
       "      medv\n",
       "chas      \n",
       "0      313\n",
       "1       20"
      ]
     },
     "execution_count": 4,
     "metadata": {},
     "output_type": "execute_result"
    }
   ],
   "source": [
    "df1 = df[['medv', 'chas']].groupby('chas').count()\n",
    "df1.head()\n",
    "\n",
    "#количество домов у реки = 20, не у реки = 313 \n",
    "#проверим, отражается ли это на цене "
   ]
  },
  {
   "cell_type": "code",
   "execution_count": 14,
   "id": "fbda10d2",
   "metadata": {},
   "outputs": [
    {
     "data": {
      "text/plain": [
       "<AxesSubplot:xlabel='medv', ylabel='chas'>"
      ]
     },
     "execution_count": 14,
     "metadata": {},
     "output_type": "execute_result"
    },
    {
     "data": {
      "image/png": "[encoded data removed]",
      "text/plain": [
       "<Figure size 432x288 with 1 Axes>"
      ]
     },
     "metadata": {
      "needs_background": "light"
     },
     "output_type": "display_data"
    }
   ],
   "source": [
    "df.plot(kind = 'scatter', x = 'medv', y = 'chas')\n",
    "\n",
    "#видим, что наличие реки для стоимости дома не принципиально, но больше всего там домов с средней ценой"
   ]
  },
  {
   "cell_type": "code",
   "execution_count": 18,
   "id": "feedd178",
   "metadata": {},
   "outputs": [
    {
     "data": {
      "text/plain": [
       "<AxesSubplot:xlabel='nox', ylabel='medv'>"
      ]
     },
     "execution_count": 18,
     "metadata": {},
     "output_type": "execute_result"
    },
    {
     "data": {
      "image/png": "[encoded data removed]",
      "text/plain": [
       "<Figure size 432x288 with 1 Axes>"
      ]
     },
     "metadata": {
      "needs_background": "light"
     },
     "output_type": "display_data"
    }
   ],
   "source": [
    "df.plot(kind = 'scatter', x = 'nox', y = 'medv')\n",
    "\n",
    "#тут видим, что больше всего домов там, где концентрация озота ниже"
   ]
  },
  {
   "cell_type": "code",
   "execution_count": 19,
   "id": "ae8333f6",
   "metadata": {},
   "outputs": [
    {
     "data": {
      "text/plain": [
       "<AxesSubplot:xlabel='crim', ylabel='medv'>"
      ]
     },
     "execution_count": 19,
     "metadata": {},
     "output_type": "execute_result"
    },
    {
     "data": {
      "image/png": "[encoded data removed]",
      "text/plain": [
       "<Figure size 432x288 with 1 Axes>"
      ]
     },
     "metadata": {
      "needs_background": "light"
     },
     "output_type": "display_data"
    }
   ],
   "source": [
    "df.plot(kind = 'scatter', x = 'crim', y = 'medv')\n",
    "\n",
    "#видим, что намного больше домов выставлено на продажу в районах с низким криминальным уровнем "
   ]
  },
  {
   "cell_type": "code",
   "execution_count": 20,
   "id": "24d7491c",
   "metadata": {},
   "outputs": [
    {
     "data": {
      "text/plain": [
       "<AxesSubplot:xlabel='rm', ylabel='medv'>"
      ]
     },
     "execution_count": 20,
     "metadata": {},
     "output_type": "execute_result"
    },
    {
     "data": {
      "image/png": "[encoded data removed]",
      "text/plain": [
       "<Figure size 432x288 with 1 Axes>"
      ]
     },
     "metadata": {
      "needs_background": "light"
     },
     "output_type": "display_data"
    }
   ],
   "source": [
    "df.plot(kind = 'scatter', x = 'rm', y = 'medv')\n",
    "\n",
    "#тут показана зависимость комнатности жилья и его цены, видим, что домов с количеством комнат 5-7 на рынке \n",
    "#больше всего, к тому же, их цена средняя(не высокая и не низкая)"
   ]
  },
  {
   "cell_type": "code",
   "execution_count": 22,
   "id": "efd7f122",
   "metadata": {},
   "outputs": [
    {
     "data": {
      "text/plain": [
       "<AxesSubplot:xlabel='rad', ylabel='medv'>"
      ]
     },
     "execution_count": 22,
     "metadata": {},
     "output_type": "execute_result"
    },
    {
     "data": {
      "image/png": "[encoded data removed]",
      "text/plain": [
       "<Figure size 432x288 with 1 Axes>"
      ]
     },
     "metadata": {
      "needs_background": "light"
     },
     "output_type": "display_data"
    }
   ],
   "source": [
    "df.plot(kind = 'scatter', x = 'rad', y = 'medv')\\\n",
    "\n",
    "#тту уровень доступности жилья в соотношении с ценой, больше всего домов с уровнем доступности до 8 "
   ]
  },
  {
   "cell_type": "markdown",
   "id": "052adad1",
   "metadata": {},
   "source": [
    "Теперь строим модель для теста и обучения\n",
    "\n"
   ]
  },
  {
   "cell_type": "code",
   "execution_count": 23,
   "id": "6dc2f53a",
   "metadata": {},
   "outputs": [],
   "source": [
    "X, y = df[['crim', 'nox', 'rm', 'rad']], df['medv']"
   ]
  },
  {
   "cell_type": "code",
   "execution_count": 28,
   "id": "135a34be",
   "metadata": {},
   "outputs": [
    {
     "name": "stdout",
     "output_type": "stream",
     "text": [
      "        crim    nox     rm  rad\n",
      "0    0.00632  0.538  6.575    1\n",
      "1    0.02731  0.469  6.421    2\n",
      "2    0.03237  0.458  6.998    3\n",
      "3    0.06905  0.458  7.147    3\n",
      "4    0.08829  0.524  6.012    5\n",
      "..       ...    ...    ...  ...\n",
      "328  0.17783  0.585  5.569    6\n",
      "329  0.06263  0.573  6.593    1\n",
      "330  0.04527  0.573  6.120    1\n",
      "331  0.06076  0.573  6.976    1\n",
      "332  0.04741  0.573  6.030    1\n",
      "\n",
      "[333 rows x 4 columns]\n",
      ".....................................\n",
      "0      24.0\n",
      "1      21.6\n",
      "2      33.4\n",
      "3      36.2\n",
      "4      22.9\n",
      "       ... \n",
      "328    17.5\n",
      "329    22.4\n",
      "330    20.6\n",
      "331    23.9\n",
      "332    11.9\n",
      "Name: medv, Length: 333, dtype: float64\n"
     ]
    }
   ],
   "source": [
    "print(X)\n",
    "print('.....................................')\n",
    "print(y)"
   ]
  },
  {
   "cell_type": "code",
   "execution_count": 41,
   "id": "9f78bfcd",
   "metadata": {},
   "outputs": [
    {
     "data": {
      "text/plain": [
       "LinearRegression()"
      ]
     },
     "execution_count": 41,
     "metadata": {},
     "output_type": "execute_result"
    }
   ],
   "source": [
    "X_train, X_test, y_train, y_test = train_test_split(X, y, test_size = 0.2)\n",
    "\n",
    "model = LinearRegression()\n",
    "model.fit(X_train, y_train) \n",
    "\n",
    "#обучили модель"
   ]
  },
  {
   "cell_type": "code",
   "execution_count": 42,
   "id": "50c65546",
   "metadata": {},
   "outputs": [
    {
     "data": {
      "text/plain": [
       "0.5291313730234195"
      ]
     },
     "execution_count": 42,
     "metadata": {},
     "output_type": "execute_result"
    }
   ],
   "source": [
    "model.score(X, y)\n",
    "\n",
    "#Возвращает коэффициент определения предсказания"
   ]
  },
  {
   "cell_type": "code",
   "execution_count": 44,
   "id": "0e53a921",
   "metadata": {},
   "outputs": [
    {
     "data": {
      "text/plain": [
       "array([-0.2081842 , -9.52734105,  7.27441104, -0.03175278])"
      ]
     },
     "execution_count": 44,
     "metadata": {},
     "output_type": "execute_result"
    }
   ],
   "source": [
    "model.coef_\n",
    "\n",
    "#оценочный коэфициент для линейной регрессии"
   ]
  },
  {
   "cell_type": "code",
   "execution_count": 34,
   "id": "3536dd9e",
   "metadata": {},
   "outputs": [
    {
     "data": {
      "text/plain": [
       "array([23.72760204, 20.55658728, 20.60136531,  2.70251728, 20.06113309,\n",
       "       25.25624344, 15.3675392 , 16.51546391, 26.2865722 , 19.05984983,\n",
       "       22.99659525, 20.91415145, 35.5030507 , 29.25829358, 14.89558542,\n",
       "       20.67204151,  9.93115338, 23.58061331, 21.34501494, 12.97119785,\n",
       "       22.64432112, 19.86960295, 10.60432461, 22.097971  , 35.20366168,\n",
       "       30.07997744, 19.44188692, 27.3043084 , 12.50799734, 23.35428387,\n",
       "       21.1221605 ,  8.16266051, 25.81235516, 24.94325745, 28.3337231 ,\n",
       "       16.93916096, 21.78467212, 21.44843543, 13.77788024, 19.40057944,\n",
       "       20.33401045, 21.6883623 , 24.76123238, 26.52096431, 31.34424694,\n",
       "       24.09995189, 12.94298201, 22.5767599 , 17.82888063, 19.17986641,\n",
       "       21.61734476, 27.54352801, 30.82438556, 25.40585187, 30.02059421,\n",
       "       20.48589689, 22.27037112, 32.67622897, 31.61177274, 13.50291476,\n",
       "       17.08035268, 18.28153264, 24.85790549, 26.13445498, 24.10913174,\n",
       "       20.67660472, 32.12637902])"
      ]
     },
     "execution_count": 34,
     "metadata": {},
     "output_type": "execute_result"
    }
   ],
   "source": [
    "y_pred = model.predict(X_test)\n",
    "y_pred\n",
    "\n",
    "#прогноз"
   ]
  },
  {
   "cell_type": "code",
   "execution_count": 36,
   "id": "2ce41410",
   "metadata": {},
   "outputs": [
    {
     "data": {
      "text/plain": [
       "22.61654060959771"
      ]
     },
     "execution_count": 36,
     "metadata": {},
     "output_type": "execute_result"
    }
   ],
   "source": [
    "mean_squared_error(y_test, y_pred)\n",
    "\n",
    "#Квадратный корень из стоимости, полученного из средней ошибки квадрата\n",
    "#не больше 180 - хорошо "
   ]
  },
  {
   "cell_type": "code",
   "execution_count": 58,
   "id": "ec26b714",
   "metadata": {},
   "outputs": [
    {
     "data": {
      "text/plain": [
       "147.0283717180815"
      ]
     },
     "execution_count": 58,
     "metadata": {},
     "output_type": "execute_result"
    }
   ],
   "source": [
    "mean_squared_error(y_test, y_pred, squared = 'True')\n",
    "\n",
    "#средняя разница в квадрате между предсказанным и фактическим значением"
   ]
  },
  {
   "cell_type": "code",
   "execution_count": null,
   "id": "820b2595",
   "metadata": {},
   "outputs": [],
   "source": []
  }
 ],
 "metadata": {
  "kernelspec": {
   "display_name": "Python 3 (ipykernel)",
   "language": "python",
   "name": "python3"
  },
  "language_info": {
   "codemirror_mode": {
    "name": "ipython",
    "version": 3
   },
   "file_extension": ".py",
   "mimetype": "text/x-python",
   "name": "python",
   "nbconvert_exporter": "python",
   "pygments_lexer": "ipython3",
   "version": "3.9.7"
  }
 },
 "nbformat": 4,
 "nbformat_minor": 5
}
